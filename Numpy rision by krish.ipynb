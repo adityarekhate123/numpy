{
 "cells": [
  {
   "cell_type": "code",
   "execution_count": 1,
   "id": "d93ddc83",
   "metadata": {},
   "outputs": [],
   "source": [
    "import numpy as np"
   ]
  },
  {
   "cell_type": "code",
   "execution_count": 2,
   "id": "e1f51032",
   "metadata": {},
   "outputs": [],
   "source": [
    "my_list=[1,5,6,8,5,5,2,5]"
   ]
  },
  {
   "cell_type": "code",
   "execution_count": 4,
   "id": "83eaebb6",
   "metadata": {},
   "outputs": [
    {
     "data": {
      "text/plain": [
       "array([1, 5, 6, 8, 5, 5, 2, 5])"
      ]
     },
     "execution_count": 4,
     "metadata": {},
     "output_type": "execute_result"
    }
   ],
   "source": [
    "#one diamenstion array\n",
    "arr=np.array(my_list)  # we convert list to array\n",
    "arr   "
   ]
  },
  {
   "cell_type": "code",
   "execution_count": 6,
   "id": "d31aec59",
   "metadata": {},
   "outputs": [
    {
     "data": {
      "text/plain": [
       "numpy.ndarray"
      ]
     },
     "execution_count": 6,
     "metadata": {},
     "output_type": "execute_result"
    }
   ],
   "source": [
    "type(arr)       #we see that array"
   ]
  },
  {
   "cell_type": "code",
   "execution_count": 7,
   "id": "da430752",
   "metadata": {},
   "outputs": [
    {
     "data": {
      "text/plain": [
       "(8,)"
      ]
     },
     "execution_count": 7,
     "metadata": {},
     "output_type": "execute_result"
    }
   ],
   "source": [
    "arr.shape"
   ]
  },
  {
   "cell_type": "code",
   "execution_count": 7,
   "id": "b29591d8",
   "metadata": {},
   "outputs": [],
   "source": [
    "#multidiamenstion array\n",
    "my_list1=[1,2,5,6,4]\n",
    "my_list2=[1,3,7,6,11]\n",
    "my_list3=[1,9,5,10,9]\n"
   ]
  },
  {
   "cell_type": "code",
   "execution_count": 10,
   "id": "0a24f442",
   "metadata": {},
   "outputs": [
    {
     "data": {
      "text/plain": [
       "array([[ 1,  2,  5,  6,  4],\n",
       "       [ 1,  3,  7,  6, 11],\n",
       "       [ 1,  9,  5, 10,  9]])"
      ]
     },
     "execution_count": 10,
     "metadata": {},
     "output_type": "execute_result"
    }
   ],
   "source": [
    "arr1=np.array([my_list1,my_list2,my_list3])\n",
    "arr1"
   ]
  },
  {
   "cell_type": "code",
   "execution_count": 25,
   "id": "d454cccd",
   "metadata": {},
   "outputs": [
    {
     "data": {
      "text/plain": [
       "(3, 5)"
      ]
     },
     "execution_count": 25,
     "metadata": {},
     "output_type": "execute_result"
    }
   ],
   "source": [
    "arr1.shape"
   ]
  },
  {
   "cell_type": "code",
   "execution_count": 11,
   "id": "0ba27e40",
   "metadata": {},
   "outputs": [
    {
     "data": {
      "text/plain": [
       "array([[ 1,  2,  5],\n",
       "       [ 6,  4,  1],\n",
       "       [ 3,  7,  6],\n",
       "       [11,  1,  9],\n",
       "       [ 5, 10,  9]])"
      ]
     },
     "execution_count": 11,
     "metadata": {},
     "output_type": "execute_result"
    }
   ],
   "source": [
    "arr1.reshape(5,3)   # mae sure our values is always 5*3=15"
   ]
  },
  {
   "cell_type": "markdown",
   "id": "fc608ff7",
   "metadata": {},
   "source": [
    "# indexing"
   ]
  },
  {
   "cell_type": "code",
   "execution_count": 4,
   "id": "a3ff64a6",
   "metadata": {},
   "outputs": [],
   "source": [
    "arr=np.array([1,2,5,2,5,2,1,5,5])"
   ]
  },
  {
   "cell_type": "code",
   "execution_count": 16,
   "id": "e4b871fd",
   "metadata": {},
   "outputs": [
    {
     "data": {
      "text/plain": [
       "2"
      ]
     },
     "execution_count": 16,
     "metadata": {},
     "output_type": "execute_result"
    }
   ],
   "source": [
    "arr[5]"
   ]
  },
  {
   "cell_type": "code",
   "execution_count": 17,
   "id": "95469d81",
   "metadata": {},
   "outputs": [
    {
     "data": {
      "text/plain": [
       "array([5, 2, 5])"
      ]
     },
     "execution_count": 17,
     "metadata": {},
     "output_type": "execute_result"
    }
   ],
   "source": [
    "arr[2:5]"
   ]
  },
  {
   "cell_type": "code",
   "execution_count": null,
   "id": "f232145f",
   "metadata": {},
   "outputs": [],
   "source": [
    "#indexing on two diamentioal "
   ]
  },
  {
   "cell_type": "code",
   "execution_count": 12,
   "id": "a60115aa",
   "metadata": {},
   "outputs": [
    {
     "data": {
      "text/plain": [
       "array([[ 1,  2,  5,  6,  4],\n",
       "       [ 1,  3,  7,  6, 11],\n",
       "       [ 1,  9,  5, 10,  9]])"
      ]
     },
     "execution_count": 12,
     "metadata": {},
     "output_type": "execute_result"
    }
   ],
   "source": [
    "arr1"
   ]
  },
  {
   "cell_type": "code",
   "execution_count": 13,
   "id": "20eedcca",
   "metadata": {},
   "outputs": [
    {
     "data": {
      "text/plain": [
       "array([[ 7,  6, 11],\n",
       "       [ 5, 10,  9]])"
      ]
     },
     "execution_count": 13,
     "metadata": {},
     "output_type": "execute_result"
    }
   ],
   "source": [
    "#arr1[1:6 for row,\n",
    "#2:5 for column]\n",
    "arr1[1:6,2:5]\n",
    "                                                                                        "
   ]
  },
  {
   "cell_type": "code",
   "execution_count": 15,
   "id": "d63fe452",
   "metadata": {},
   "outputs": [
    {
     "data": {
      "text/plain": [
       "array([[2, 5],\n",
       "       [3, 7]])"
      ]
     },
     "execution_count": 15,
     "metadata": {},
     "output_type": "execute_result"
    }
   ],
   "source": [
    "arr1[0:2,1:3]"
   ]
  },
  {
   "cell_type": "code",
   "execution_count": 32,
   "id": "d8296285",
   "metadata": {},
   "outputs": [
    {
     "data": {
      "text/plain": [
       "array([[ 1,  2,  5,  6,  4],\n",
       "       [ 1,  3,  7,  6, 11],\n",
       "       [ 1,  9,  5, 10,  9]])"
      ]
     },
     "execution_count": 32,
     "metadata": {},
     "output_type": "execute_result"
    }
   ],
   "source": [
    "arr1[:,:]"
   ]
  },
  {
   "cell_type": "code",
   "execution_count": 36,
   "id": "327c17af",
   "metadata": {},
   "outputs": [
    {
     "data": {
      "text/plain": [
       "9"
      ]
     },
     "execution_count": 36,
     "metadata": {},
     "output_type": "execute_result"
    }
   ],
   "source": [
    "arr1[2,4]"
   ]
  },
  {
   "cell_type": "code",
   "execution_count": 37,
   "id": "ae2a8167",
   "metadata": {},
   "outputs": [
    {
     "data": {
      "text/plain": [
       "7"
      ]
     },
     "execution_count": 37,
     "metadata": {},
     "output_type": "execute_result"
    }
   ],
   "source": [
    "arr1[1,2]"
   ]
  },
  {
   "cell_type": "code",
   "execution_count": 40,
   "id": "cb05c7cc",
   "metadata": {},
   "outputs": [
    {
     "data": {
      "text/plain": [
       "array([[ 7,  6],\n",
       "       [ 5, 10]])"
      ]
     },
     "execution_count": 40,
     "metadata": {},
     "output_type": "execute_result"
    }
   ],
   "source": [
    "arr1[1:3,2:4]"
   ]
  },
  {
   "cell_type": "code",
   "execution_count": 41,
   "id": "29e9c387",
   "metadata": {},
   "outputs": [
    {
     "data": {
      "text/plain": [
       "array([[ 6, 11],\n",
       "       [10,  9]])"
      ]
     },
     "execution_count": 41,
     "metadata": {},
     "output_type": "execute_result"
    }
   ],
   "source": [
    "arr1[1:3,3:5]"
   ]
  },
  {
   "cell_type": "code",
   "execution_count": 43,
   "id": "52d863f3",
   "metadata": {},
   "outputs": [
    {
     "data": {
      "text/plain": [
       "array([0, 2, 4, 6, 8])"
      ]
     },
     "execution_count": 43,
     "metadata": {},
     "output_type": "execute_result"
    }
   ],
   "source": [
    "arr2=np.arange(0,10,2)\n",
    "arr2"
   ]
  },
  {
   "cell_type": "code",
   "execution_count": 48,
   "id": "b1c2c19d",
   "metadata": {},
   "outputs": [
    {
     "data": {
      "text/plain": [
       "array([ 2.        ,  2.88888889,  3.77777778,  4.66666667,  5.55555556,\n",
       "        6.44444444,  7.33333333,  8.22222222,  9.11111111, 10.        ])"
      ]
     },
     "execution_count": 48,
     "metadata": {},
     "output_type": "execute_result"
    }
   ],
   "source": [
    "arr3=np.linspace(2,10,10) [#2-10 equally 10 values]\n",
    "arr3"
   ]
  },
  {
   "cell_type": "code",
   "execution_count": 51,
   "id": "2f0906f9",
   "metadata": {},
   "outputs": [
    {
     "data": {
      "text/plain": [
       "array([ 0,  2, 20,  6,  8])"
      ]
     },
     "execution_count": 51,
     "metadata": {},
     "output_type": "execute_result"
    }
   ],
   "source": [
    "arr2[2]=20\n",
    "arr2"
   ]
  },
  {
   "cell_type": "code",
   "execution_count": 53,
   "id": "8e22e785",
   "metadata": {},
   "outputs": [
    {
     "data": {
      "text/plain": [
       "array([ 0,  2, 45, 45, 45])"
      ]
     },
     "execution_count": 53,
     "metadata": {},
     "output_type": "execute_result"
    }
   ],
   "source": [
    "#brodcasting \n",
    "arr2[2:]=45\n",
    "arr2"
   ]
  },
  {
   "cell_type": "code",
   "execution_count": 54,
   "id": "149d6e9e",
   "metadata": {},
   "outputs": [
    {
     "data": {
      "text/plain": [
       "array([   0,    2,   45, 1000, 1000])"
      ]
     },
     "execution_count": 54,
     "metadata": {},
     "output_type": "execute_result"
    }
   ],
   "source": [
    "#first take copy of prviouse\n",
    "arr3=arr2.copy()\n",
    "arr2[3:]=1000\n",
    "arr2"
   ]
  },
  {
   "cell_type": "code",
   "execution_count": 58,
   "id": "5394344e",
   "metadata": {},
   "outputs": [
    {
     "data": {
      "text/plain": [
       "array([ 0,  2, 45, 45, 45])"
      ]
     },
     "execution_count": 58,
     "metadata": {},
     "output_type": "execute_result"
    }
   ],
   "source": [
    "#you can check my priviouse array\n",
    "arr3"
   ]
  },
  {
   "cell_type": "code",
   "execution_count": 67,
   "id": "9da942bf",
   "metadata": {},
   "outputs": [],
   "source": [
    "#check the array \n",
    "arr5=np.array([0,0,2,54,5,52,5])"
   ]
  },
  {
   "cell_type": "code",
   "execution_count": 68,
   "id": "def0ba9f",
   "metadata": {},
   "outputs": [
    {
     "data": {
      "text/plain": [
       "array([False, False, False,  True,  True,  True,  True])"
      ]
     },
     "execution_count": 68,
     "metadata": {},
     "output_type": "execute_result"
    }
   ],
   "source": [
    "arr5>2"
   ]
  },
  {
   "cell_type": "code",
   "execution_count": 71,
   "id": "9c551d31",
   "metadata": {},
   "outputs": [
    {
     "name": "stdout",
     "output_type": "stream",
     "text": [
      "[  0   0  10 270  25 260  25]\n",
      "[ 0.   0.   0.4 10.8  1.  10.4  1. ]\n",
      "[ 5  5  7 59 10 57 10]\n"
     ]
    }
   ],
   "source": [
    "#array manupulation\n",
    "print(arr5*5)\n",
    "print(arr5/5)\n",
    "print(arr5+5)"
   ]
  },
  {
   "cell_type": "code",
   "execution_count": 72,
   "id": "c0f52a7b",
   "metadata": {},
   "outputs": [
    {
     "data": {
      "text/plain": [
       "array([[0, 1],\n",
       "       [2, 3],\n",
       "       [4, 5],\n",
       "       [6, 7],\n",
       "       [8, 9]])"
      ]
     },
     "execution_count": 72,
     "metadata": {},
     "output_type": "execute_result"
    }
   ],
   "source": [
    "np.arange(0,10).reshape(5,2)"
   ]
  },
  {
   "cell_type": "code",
   "execution_count": 74,
   "id": "de171eac",
   "metadata": {
    "scrolled": true
   },
   "outputs": [
    {
     "data": {
      "text/plain": [
       "array([[ 0,  1,  2,  3,  4,  5],\n",
       "       [ 6,  7,  8,  9, 10, 11]])"
      ]
     },
     "execution_count": 74,
     "metadata": {},
     "output_type": "execute_result"
    }
   ],
   "source": [
    "np.arange(0,12).reshape(2,6)"
   ]
  },
  {
   "cell_type": "code",
   "execution_count": 81,
   "id": "4c80a7c1",
   "metadata": {},
   "outputs": [
    {
     "ename": "AttributeError",
     "evalue": "'numpy.ndarray' object has no attribute 'append'",
     "output_type": "error",
     "traceback": [
      "\u001b[1;31m---------------------------------------------------------------------------\u001b[0m",
      "\u001b[1;31mAttributeError\u001b[0m                            Traceback (most recent call last)",
      "Cell \u001b[1;32mIn [81], line 1\u001b[0m\n\u001b[1;32m----> 1\u001b[0m \u001b[43marr5\u001b[49m\u001b[38;5;241;43m.\u001b[39;49m\u001b[43mappend\u001b[49m([\u001b[38;5;241m58\u001b[39m])\n",
      "\u001b[1;31mAttributeError\u001b[0m: 'numpy.ndarray' object has no attribute 'append'"
     ]
    }
   ],
   "source": []
  },
  {
   "cell_type": "code",
   "execution_count": 87,
   "id": "1a493abd",
   "metadata": {},
   "outputs": [
    {
     "data": {
      "text/plain": [
       "array([1, 2, 5, 2, 5, 2, 1, 5, 5])"
      ]
     },
     "execution_count": 87,
     "metadata": {},
     "output_type": "execute_result"
    }
   ],
   "source": [
    "arr"
   ]
  },
  {
   "cell_type": "code",
   "execution_count": 88,
   "id": "3e006ad1",
   "metadata": {},
   "outputs": [
    {
     "data": {
      "text/plain": [
       "array([1, 2, 2, 2, 1])"
      ]
     },
     "execution_count": 88,
     "metadata": {},
     "output_type": "execute_result"
    }
   ],
   "source": [
    "#give me that array only less than 4\n",
    "arr[arr<4] "
   ]
  },
  {
   "cell_type": "code",
   "execution_count": 107,
   "id": "1d1d3f9d",
   "metadata": {},
   "outputs": [
    {
     "data": {
      "text/plain": [
       "array([[ True,  True,  True,  True,  True,  True,  True,  True,  True,\n",
       "         True],\n",
       "       [ True,  True,  True,  True,  True,  True,  True,  True,  True,\n",
       "         True]])"
      ]
     },
     "execution_count": 107,
     "metadata": {},
     "output_type": "execute_result"
    }
   ],
   "source": [
    "a=np.ones([2,10],dtype=bool)\n",
    "a"
   ]
  },
  {
   "cell_type": "code",
   "execution_count": 105,
   "id": "9e26451c",
   "metadata": {},
   "outputs": [
    {
     "data": {
      "text/plain": [
       "array([[2., 2., 2., 2., 2., 2., 2., 2., 2., 2.],\n",
       "       [2., 2., 2., 2., 2., 2., 2., 2., 2., 2.]])"
      ]
     },
     "execution_count": 105,
     "metadata": {},
     "output_type": "execute_result"
    }
   ],
   "source": [
    "#array operation \n",
    "a*5+3-6"
   ]
  },
  {
   "cell_type": "code",
   "execution_count": 100,
   "id": "3c684ff3",
   "metadata": {},
   "outputs": [
    {
     "data": {
      "text/plain": [
       "array([[0., 0., 0., 0.],\n",
       "       [0., 0., 0., 0.],\n",
       "       [0., 0., 0., 0.],\n",
       "       [0., 0., 0., 0.],\n",
       "       [0., 0., 0., 0.]])"
      ]
     },
     "execution_count": 100,
     "metadata": {},
     "output_type": "execute_result"
    }
   ],
   "source": [
    "np.zeros([5,4])"
   ]
  },
  {
   "cell_type": "code",
   "execution_count": 113,
   "id": "c4b62c85",
   "metadata": {},
   "outputs": [
    {
     "data": {
      "text/plain": [
       "array([[1., 1., 1., 1., 1.],\n",
       "       [1., 1., 1., 1., 1.]])"
      ]
     },
     "execution_count": 113,
     "metadata": {},
     "output_type": "execute_result"
    }
   ],
   "source": [
    "np.ones((2,5))"
   ]
  },
  {
   "cell_type": "code",
   "execution_count": 135,
   "id": "5e94c105",
   "metadata": {},
   "outputs": [
    {
     "data": {
      "text/plain": [
       "array([[0.33833166, 0.31627379, 0.60890168, 0.97108595, 0.28281994],\n",
       "       [0.77166931, 0.76855285, 0.57077112, 0.87711951, 0.33010542],\n",
       "       [0.3334704 , 0.77698238, 0.13753976, 0.99538253, 0.92492173]])"
      ]
     },
     "execution_count": 135,
     "metadata": {},
     "output_type": "execute_result"
    }
   ],
   "source": [
    "#it give uniform disrtibution ---all values equally likely\n",
    "np.random.rand(3,5)"
   ]
  },
  {
   "cell_type": "code",
   "execution_count": 139,
   "id": "e0d1d2bd",
   "metadata": {},
   "outputs": [
    {
     "data": {
      "text/plain": [
       "array([[ 1.08976474, -0.82407274, -0.21448296, -0.41890979, -0.29866643],\n",
       "       [-0.83004642,  0.88138246,  0.58041155, -0.05253973,  2.1590629 ],\n",
       "       [-0.73427349,  0.70454185,  1.1172116 , -0.26014716,  0.93935543],\n",
       "       [ 0.03464089, -2.25661334, -1.06887537, -0.26836206,  0.30144959]])"
      ]
     },
     "execution_count": 139,
     "metadata": {},
     "output_type": "execute_result"
    }
   ],
   "source": [
    "#it give the value standrad normal distribution\n",
    "np.random.randn(4,5)"
   ]
  },
  {
   "cell_type": "code",
   "execution_count": 164,
   "id": "7d0f2c0f",
   "metadata": {},
   "outputs": [
    {
     "data": {
      "text/plain": [
       "array([[ 3, 21],\n",
       "       [10, 16],\n",
       "       [ 5, 18],\n",
       "       [18,  4],\n",
       "       [15, 21],\n",
       "       [12, 20],\n",
       "       [ 4, 22]])"
      ]
     },
     "execution_count": 164,
     "metadata": {},
     "output_type": "execute_result"
    }
   ],
   "source": [
    "#randint it give me 14 values betwen 2-25 and reshape it 7 row and 2 columns\n",
    "\n",
    "np.random.randint(2,25,14).reshape(7,2)"
   ]
  },
  {
   "cell_type": "code",
   "execution_count": 166,
   "id": "715d6435",
   "metadata": {},
   "outputs": [
    {
     "data": {
      "text/plain": [
       "array([[0.38420922, 0.45926719, 0.1496577 , 0.30645011, 0.17425154],\n",
       "       [0.06783785, 0.89450802, 0.15396006, 0.09366257, 0.94660265]])"
      ]
     },
     "execution_count": 166,
     "metadata": {},
     "output_type": "execute_result"
    }
   ],
   "source": [
    "#random sample\n",
    "np.random.sample()"
   ]
  },
  {
   "cell_type": "code",
   "execution_count": null,
   "id": "e3e40b02",
   "metadata": {},
   "outputs": [],
   "source": []
  },
  {
   "cell_type": "code",
   "execution_count": null,
   "id": "d15dc550",
   "metadata": {},
   "outputs": [],
   "source": []
  }
 ],
 "metadata": {
  "kernelspec": {
   "display_name": "Python 3 (ipykernel)",
   "language": "python",
   "name": "python3"
  },
  "language_info": {
   "codemirror_mode": {
    "name": "ipython",
    "version": 3
   },
   "file_extension": ".py",
   "mimetype": "text/x-python",
   "name": "python",
   "nbconvert_exporter": "python",
   "pygments_lexer": "ipython3",
   "version": "3.11.0"
  }
 },
 "nbformat": 4,
 "nbformat_minor": 5
}
